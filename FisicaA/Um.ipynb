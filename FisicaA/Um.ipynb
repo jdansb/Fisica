{
  "nbformat": 4,
  "nbformat_minor": 0,
  "metadata": {
    "colab": {
      "provenance": [],
      "toc_visible": true,
      "authorship_tag": "ABX9TyOg0gIFe2E20tIV1pdNxWqR",
      "include_colab_link": true
    },
    "kernelspec": {
      "name": "python3",
      "display_name": "Python 3"
    },
    "language_info": {
      "name": "python"
    }
  },
  "cells": [
    {
      "cell_type": "markdown",
      "metadata": {
        "id": "view-in-github",
        "colab_type": "text"
      },
      "source": [
        "<a href=\"https://colab.research.google.com/github/jdansb/Fisica/blob/main/FisicaA/Um.ipynb\" target=\"_parent\"><img src=\"https://colab.research.google.com/assets/colab-badge.svg\" alt=\"Open In Colab\"/></a>"
      ]
    },
    {
      "cell_type": "markdown",
      "source": [
        "## Notas de introdução"
      ],
      "metadata": {
        "id": "y2czGWees4yG"
      }
    },
    {
      "cell_type": "markdown",
      "source": [
        "Meu objetivo com esta série de notas é revisar o **ciclo básico da graduação em Física**. Em termos de referência, podemos pensar na coleção *Física I a IV* de **Young & Freedman**. A ideia é que o conhecimento matemático necessário aqui se limite ao nível da matemática algébrica e geométrica, deixando o cálculo diferencial para um desenvolvimento futuro.\n",
        "\n",
        "Nesta primeira parte, estou me baseando principalmente no livro:\n",
        "\n",
        "> **Young, Hugh D.** *Física I, Sears e Zemansky: Mecânica* / Hugh D. Young, Roger A. Freedman; colaborador A. Lewis Ford; tradução Daniel Vieira; revisão técnica Adir Moysés Luiz. – 14. ed. – São Paulo: Pearson Education do Brasil, 2016.\n",
        "\n",
        "Futuramente, talvez eu também revise os livros de **Geometria** e **Álgebra** de *Paulo Winterle* para apresentar a base matemática. Como estou preparando estas notas em caráter de revisão, recomendo que o **primeiro contato** com os assuntos seja feito diretamente pelos livros mencionados.\n"
      ],
      "metadata": {
        "id": "XnH_oK-iDef_"
      }
    },
    {
      "cell_type": "markdown",
      "source": [
        "Vamos começar pelo básico. Neste livro, acredito que trabalharemos principalmente com três unidades fundamentais: o **metro (m)**, o **quilograma (kg)** e o **segundo (s)**. Todas as demais unidades podem ser construídas a partir dessas. Por exemplo, não medimos a **força (Newton)** diretamente; ela precisa ser calculada a partir de outras quantidades, como massa, comprimento e tempo. Isso abre espaço para interpretações diversas e até debates filosóficos sobre o que exatamente significa “força”.\n",
        "\n",
        "Na minha opinião, a principal característica da **Física** é sua capacidade de **descrever** e **prever** grandezas observáveis. O ponto indiscutível é que as teorias físicas conseguem prever resultados que podem ser medidos — essa é sua principal conexão com a realidade. Já a interpretação das ferramentas matemáticas que levam a essas previsões pertence a um debate filosófico distinto. Por isso quero me concentrar aqui nas **grandezas mensuráveis**, evitando especulações excessivamente abstratas.\n",
        "\n",
        "Estas notas têm um caráter prático: *“sente-se e calcule”*. A ideia não é rejeitar a discussão sobre como interpretar a estrutura matemática das teorias físicas, mas deixar claro que esse é um debate paralelo e distinto.   Enquanto a parte **quantitativa** (fazer contas e manipular fórmulas) segue regras bem definidas e consensuais, a parte **conceitual** (interpretar o que os cálculos significam) envolve mais controvérsias e menos consenso.  \n",
        "\n",
        "Essa diferença entre **fazer física** e **entender o que significa o que foi feito** fica ainda mais evidente na mecânica quântica, mas já podemos reconhecê-la desde agora. O campo elétrico existe como uma **entidade física**, mesmo que só possamos medi-lo **indiretamente**, observando como uma carga elétrica é afetada? Existe uma entidade física que corresponda à força, mesmo que apenas a calculemos a partir da variação de posição de um objeto? São essas questões que não procurarei responder.\n",
        "\n",
        "\n",
        "Ensinarei apenas a calcular os valores que podem ser medidos. Para entender meu posicionamento, recomendo a leitura sobre a **teoria do reflexo** e o **materialismo dialético**. Uma boa referência é [The Worldview and Philosophical Methodology of Marxism-Leninism](https://www.banyanhouse.org/product/ebook-the-worldview-and-philosophical-methodology-of-marxism-leninism/).\n"
      ],
      "metadata": {
        "id": "zJB9Q7P3I__y"
      }
    },
    {
      "cell_type": "markdown",
      "source": [
        "## Descrição do Movimento"
      ],
      "metadata": {
        "id": "IyVkuH6us7Af"
      }
    },
    {
      "cell_type": "markdown",
      "source": [
        "O capítulo 1 discute mais sobre matemática que física, assim sendo podemos avançar diretamente para o capítulo 2. As principais equações apresentadas no resumo do segundo capítulo são:\n",
        "\n",
        "- $v=\\frac{\\Delta x}{\\Delta t}$\n",
        "- $a=\\frac{\\Delta v}{\\Delta t}$\n",
        "- $v=v_{0}+at$\n",
        "- $x=x_{0}+v_{0}t+\\frac{1}{a}at^{2}$\n",
        "- $v^{2}=v_{0}^{2}+2a\\Delta x$\n",
        "\n",
        "E adicionamos do capítulo 3:\n",
        "- $a_{r}=\\frac{v^{2}}{R}=\\frac{4\\pi^{2}R}{T^{2}}$"
      ],
      "metadata": {
        "id": "5UuIWS9zyX7Z"
      }
    },
    {
      "cell_type": "code",
      "source": [],
      "metadata": {
        "id": "K8Y33MCHE9o4"
      },
      "execution_count": null,
      "outputs": []
    }
  ]
}
{
  "nbformat": 4,
  "nbformat_minor": 0,
  "metadata": {
    "colab": {
      "provenance": [],
      "toc_visible": true,
      "authorship_tag": "ABX9TyOilRCewytsNzidCNuvE5Pm",
      "include_colab_link": true
    },
    "kernelspec": {
      "name": "python3",
      "display_name": "Python 3"
    },
    "language_info": {
      "name": "python"
    }
  },
  "cells": [
    {
      "cell_type": "markdown",
      "metadata": {
        "id": "view-in-github",
        "colab_type": "text"
      },
      "source": [
        "<a href=\"https://colab.research.google.com/github/jdansb/Fisica/blob/main/FisicaA/Um.ipynb\" target=\"_parent\"><img src=\"https://colab.research.google.com/assets/colab-badge.svg\" alt=\"Open In Colab\"/></a>"
      ]
    },
    {
      "cell_type": "markdown",
      "source": [
        "## Descrição do Movimento"
      ],
      "metadata": {
        "id": "IyVkuH6us7Af"
      }
    },
    {
      "cell_type": "markdown",
      "source": [
        "O capítulo 1 discute mais sobre matemática que física, assim sendo podemos avançar diretamente para o capítulo 2. As principais equações apresentadas no resumo do segundo capítulo são:\n",
        "\n",
        "- $v=\\frac{\\Delta x}{\\Delta t}$\n",
        "- $a=\\frac{\\Delta v}{\\Delta t}$\n",
        "- $v=v_{0}+at$\n",
        "- $x=x_{0}+v_{0}t+\\frac{1}{a}at^{2}$\n",
        "- $v^{2}=v_{0}^{2}+2a\\Delta x$\n",
        "\n",
        "\n",
        "E adicionamos do capítulo 3:\n",
        "- $a_{r}=\\frac{v^{2}}{R}=\\frac{4\\pi^{2}R}{T^{2}}$\n",
        "\n",
        "O primeiro comentário que deve ser feito, é que o papel deste conjunto de equações é apenas descrever o movimento, sem se importar com suas causas ou consequências."
      ],
      "metadata": {
        "id": "5UuIWS9zyX7Z"
      }
    }
  ]
}
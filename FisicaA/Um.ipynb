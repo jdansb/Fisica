{
  "nbformat": 4,
  "nbformat_minor": 0,
  "metadata": {
    "colab": {
      "provenance": [],
      "authorship_tag": "ABX9TyNe20JkttVWXgNDsXfN30ZV",
      "include_colab_link": true
    },
    "kernelspec": {
      "name": "python3",
      "display_name": "Python 3"
    },
    "language_info": {
      "name": "python"
    }
  },
  "cells": [
    {
      "cell_type": "markdown",
      "metadata": {
        "id": "view-in-github",
        "colab_type": "text"
      },
      "source": [
        "<a href=\"https://colab.research.google.com/github/jdansb/Fisica/blob/main/FisicaA/Um.ipynb\" target=\"_parent\"><img src=\"https://colab.research.google.com/assets/colab-badge.svg\" alt=\"Open In Colab\"/></a>"
      ]
    },
    {
      "cell_type": "markdown",
      "source": [
        "## Nota:\n",
        "\n",
        "Meu objetivo com esta série de notas é revisar o **ciclo básico da graduação em Física**. Em termos de referência, podemos pensar na coleção *Física I a IV* de **Young & Freedman**. A ideia é que o conhecimento matemático necessário aqui se limite ao nível de **Álgebra e Geometria**, sem ainda incluir o **Cálculo Diferencial**.\n",
        "\n",
        "Nesta primeira parte, estou me baseando principalmente no livro:\n",
        "\n",
        "> **Young, Hugh D.** *Física I, Sears e Zemansky: Mecânica* / Hugh D. Young, Roger A. Freedman; colaborador A. Lewis Ford; tradução Daniel Vieira; revisão técnica Adir Moysés Luiz. – 14. ed. – São Paulo: Pearson Education do Brasil, 2016.\n",
        "\n",
        "Futuramente, talvez eu também revise os livros de **Geometria** e **Álgebra** de *Paulo Winterle* para complementar a base matemática. Como estou preparando estas notas em caráter de revisão, recomendo que o **primeiro contato** com os assuntos seja feito diretamente pelos livros mencionados.\n"
      ],
      "metadata": {
        "id": "XnH_oK-iDef_"
      }
    },
    {
      "cell_type": "markdown",
      "source": [
        "# Movimento"
      ],
      "metadata": {
        "id": "hLk3nkm7GCii"
      }
    },
    {
      "cell_type": "markdown",
      "source": [
        "Vamos começar pelo básico. Neste livro, acredito que trabalharemos principalmente com três unidades fundamentais: o **metro (m)**, o **quilograma (kg)** e o **segundo (s)**. Todas as demais unidades podem ser construídas a partir dessas.\n",
        "\n",
        "Por exemplo, não medimos a **força (Newton)** diretamente; ela precisa ser calculada a partir de outras quantidades, como massa, comprimento e tempo. Isso abre espaço para interpretações diversas e até debates filosóficos sobre o que exatamente significa “força”.\n",
        "\n",
        "Na minha opinião, a principal característica da **Física** é sua capacidade de **descrever** e **prever** grandezas observáveis. O ponto indiscutível é que as teorias físicas conseguem prever resultados que podem ser medidos — essa é sua principal conexão com a realidade.\n",
        "\n",
        "Já a interpretação das ferramentas matemáticas que levam a essas previsões pertence a um debate filosófico distinto. Por isso, também quero me concentrar aqui nas **grandezas mensuráveis**, evitando especulações excessivamente abstratas.\n",
        "\n",
        "Começamos então definindo a velocidade como a taxa de variação da posição em relação ao tempo. Isto é, considerando que estamos em uma posição $x_{i}$ no instante $t_{i}$ então a velocidade, para uma aceleração nula é e velocidade constante é:\n",
        "\n",
        "$$v=\\frac{x_{2}-x_{1}}{t_{2}-t_{1}}=\\frac{\\Delta x}{\\Delta t}$$\n",
        "\n",
        "De modo análogo temos que a aceleração é a variação da velocidade no tempo, para uma aceleração constante:\n",
        "\n",
        "$$a=\\frac{v_{2}-v_{1}}{t_{2}-t_{1}}=\\frac{\\Delta v}{\\Delta t}$$\n",
        "\n",
        "\n"
      ],
      "metadata": {
        "id": "zJB9Q7P3I__y"
      }
    },
    {
      "cell_type": "code",
      "source": [],
      "metadata": {
        "id": "K8Y33MCHE9o4"
      },
      "execution_count": null,
      "outputs": []
    }
  ]
}